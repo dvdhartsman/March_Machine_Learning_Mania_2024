{
 "cells": [
  {
   "cell_type": "markdown",
   "id": "93618987",
   "metadata": {},
   "source": [
    "# March Machine Learning Madness 2024: \n",
    "### Predicting NCAA Basketball Tournament Results\n",
    "##### From the [Kaggle Competition](https://www.kaggle.com/competitions/march-machine-learning-mania-2024/overview) by the same name\n",
    "##### By David Hartsman"
   ]
  },
  {
   "cell_type": "markdown",
   "id": "4e5c3261",
   "metadata": {},
   "source": [
    "<hr style=\"border: 4px solid blue\">"
   ]
  },
  {
   "cell_type": "code",
   "execution_count": 20,
   "id": "94bd9001",
   "metadata": {},
   "outputs": [],
   "source": [
    "# Imports \n",
    "\n",
    "import numpy as np\n",
    "import pandas as pd\n",
    "import matplotlib.pyplot as plt\n",
    "%matplotlib inline\n",
    "import seaborn as sns\n",
    "\n",
    "import os\n",
    "import warnings\n",
    "\n",
    "warnings.filterwarnings(\"ignore\")"
   ]
  },
  {
   "cell_type": "markdown",
   "id": "e919c795",
   "metadata": {},
   "source": [
    "### Exploration of the Various Data Files\n",
    "There are 32 separate data sources that require exploration and understanding. I will begin my project by inspecting the contents of these files to understand the information contained within. The first file contains information about `THIS YEAR'S` tournament seeds."
   ]
  },
  {
   "cell_type": "code",
   "execution_count": 2,
   "id": "af098d4e",
   "metadata": {},
   "outputs": [],
   "source": [
    "# Using os and this path to make pd.read_csv() statements more concise \n",
    "path = '/Users/samalainabayeva/Desktop/FLAT_IRON!!!/NCAA_KAGGLE/march-machine-learning-mania-2024'"
   ]
  },
  {
   "cell_type": "markdown",
   "id": "cbaf485e",
   "metadata": {},
   "source": [
    "<hr style=\"border: 2px solid blue\">"
   ]
  },
  {
   "cell_type": "markdown",
   "id": "b529134a",
   "metadata": {},
   "source": [
    "<div class=\"alert alert-block alert-info\" style=\"font-size: 2em;\">\n",
    "<b>Data Section 1:</b> The Basics\n",
    "</div>\n",
    "\n",
    " 1. **M/W Teams**\n",
    " 2. **M/W Seasons**\n",
    " 3. **M/W Tournament Seeds**\n",
    " 4. **M/W `RegularSeason` CompactResults**\n",
    " 5. **M/W `NCAATourney` CompactResults**\n"
   ]
  },
  {
   "cell_type": "markdown",
   "id": "a740f982",
   "metadata": {},
   "source": [
    "<hr style=\"border: 2px solid blue\">"
   ]
  },
  {
   "cell_type": "markdown",
   "id": "d69ca46c",
   "metadata": {},
   "source": [
    "##### 1.) M/W Teams\n",
    "- TeamID -> Unique Identifier\n",
    "- TeamName -> String Name\n",
    "- FirstD1Season -> Year of said-season\n",
    "- LastD1Season -> 2024 if currently D1, else final year as D1 school"
   ]
  },
  {
   "cell_type": "code",
   "execution_count": 52,
   "id": "f5ba7b74",
   "metadata": {},
   "outputs": [
    {
     "data": {
      "text/plain": [
       "((378, 4),\n",
       "    TeamID     TeamName  FirstD1Season  LastD1Season\n",
       " 0    1101  Abilene Chr           2014          2024\n",
       " 1    1102    Air Force           1985          2024\n",
       " 2    1103        Akron           1985          2024\n",
       " 3    1104      Alabama           1985          2024\n",
       " 4    1105  Alabama A&M           2000          2024)"
      ]
     },
     "execution_count": 52,
     "metadata": {},
     "output_type": "execute_result"
    }
   ],
   "source": [
    "# Load\n",
    "men_teams = pd.read_csv(os.path.join(path, 'MTeams.csv'))\n",
    "\n",
    "# Inspect\n",
    "men_teams.shape, men_teams.head()"
   ]
  },
  {
   "cell_type": "code",
   "execution_count": 56,
   "id": "8b8e5fd5",
   "metadata": {},
   "outputs": [
    {
     "data": {
      "text/plain": [
       "LastD1Season\n",
       "2024    362\n",
       "1991      2\n",
       "1987      2\n",
       "2023      2\n",
       "2006      1\n",
       "1992      1\n",
       "2011      1\n",
       "1990      1\n",
       "2003      1\n",
       "1998      1\n",
       "1985      1\n",
       "2019      1\n",
       "2010      1\n",
       "1986      1\n",
       "Name: count, dtype: int64"
      ]
     },
     "execution_count": 56,
     "metadata": {},
     "output_type": "execute_result"
    }
   ],
   "source": [
    "# Very few schools have cycled out of D1 eligibility \n",
    "men_teams[\"LastD1Season\"].value_counts(normalize=False)"
   ]
  },
  {
   "cell_type": "markdown",
   "id": "f7ad77eb",
   "metadata": {},
   "source": [
    "<hr style=\"border: 2px solid blue\">"
   ]
  },
  {
   "cell_type": "markdown",
   "id": "8fac71e1",
   "metadata": {},
   "source": [
    "##### 2.) Seasons\n",
    "- Season -> int, year\n",
    "- DayZero -> First day of given season\n",
    "- RegionW -> name of each specific region, in the future, data will be organized by 'WXYZ' regions, not \"Midwest\", etc.\n",
    "- RegionX -> same\n",
    "- RegionY -> same\n",
    "- RegionZ -> same"
   ]
  },
  {
   "cell_type": "code",
   "execution_count": 60,
   "id": "69edff51",
   "metadata": {},
   "outputs": [
    {
     "data": {
      "text/plain": [
       "((40, 6),\n",
       "    Season    DayZero RegionW    RegionX    RegionY    RegionZ\n",
       " 0    1985 1984-10-29    East       West    Midwest  Southeast\n",
       " 1    1986 1985-10-28    East    Midwest  Southeast       West\n",
       " 2    1987 1986-10-27    East  Southeast    Midwest       West\n",
       " 3    1988 1987-11-02    East    Midwest  Southeast       West\n",
       " 4    1989 1988-10-31    East       West    Midwest  Southeast)"
      ]
     },
     "execution_count": 60,
     "metadata": {},
     "output_type": "execute_result"
    }
   ],
   "source": [
    "# Load - parsing dates as DayZero is a specific datetime, might be needed later\n",
    "mens_seasons = pd.read_csv(os.path.join(path, \"MSeasons.csv\"), parse_dates=[\"DayZero\"])\n",
    "# Inspect\n",
    "mens_seasons.shape, mens_seasons.head()"
   ]
  },
  {
   "cell_type": "code",
   "execution_count": 61,
   "id": "7b3f49d1",
   "metadata": {},
   "outputs": [
    {
     "name": "stdout",
     "output_type": "stream",
     "text": [
      "<class 'pandas.core.frame.DataFrame'>\n",
      "RangeIndex: 40 entries, 0 to 39\n",
      "Data columns (total 6 columns):\n",
      " #   Column   Non-Null Count  Dtype         \n",
      "---  ------   --------------  -----         \n",
      " 0   Season   40 non-null     int64         \n",
      " 1   DayZero  40 non-null     datetime64[ns]\n",
      " 2   RegionW  40 non-null     object        \n",
      " 3   RegionX  40 non-null     object        \n",
      " 4   RegionY  40 non-null     object        \n",
      " 5   RegionZ  40 non-null     object        \n",
      "dtypes: datetime64[ns](1), int64(1), object(4)\n",
      "memory usage: 2.0+ KB\n"
     ]
    }
   ],
   "source": [
    "mens_seasons.info()"
   ]
  },
  {
   "cell_type": "markdown",
   "id": "12af93ff",
   "metadata": {},
   "source": [
    "<hr style=\"border: 2px solid blue\">"
   ]
  },
  {
   "cell_type": "markdown",
   "id": "b7715edf",
   "metadata": {},
   "source": [
    "##### 3.) Seeds:\n",
    "This data contain 128 rows, 64 for each tournament, men's and women's respectively. The \n",
    "- `Tournament` column designates M/W for men or women, \n",
    "- `Seed` contains bracket region and numeric seeds, and \n",
    "- `TeamID`, contains what may be a unique identifier for merging"
   ]
  },
  {
   "cell_type": "code",
   "execution_count": 3,
   "id": "3653991a",
   "metadata": {},
   "outputs": [
    {
     "data": {
      "text/plain": [
       "((128, 3),\n",
       "   Tournament Seed  TeamID\n",
       " 0          M  W01    1345\n",
       " 1          M  W02    1266\n",
       " 2          M  W03    1243\n",
       " 3          M  W04    1397\n",
       " 4          M  W05    1181)"
      ]
     },
     "execution_count": 3,
     "metadata": {},
     "output_type": "execute_result"
    }
   ],
   "source": [
    "# Load data\n",
    "tournament_seeds = pd.read_csv(os.path.join(path, '2024_tourney_seeds.csv'))\n",
    "\n",
    "# Inspect the DF contents\n",
    "tournament_seeds.shape, tournament_seeds.head()"
   ]
  },
  {
   "cell_type": "markdown",
   "id": "0a6e14f5",
   "metadata": {},
   "source": [
    "<hr style=\"border: 2px solid blue\">"
   ]
  },
  {
   "cell_type": "markdown",
   "id": "df71a0cb",
   "metadata": {},
   "source": [
    "##### 4.) Regular Season Compact Results\n",
    "- Season -> int, year\n",
    "- DayNum -> 0 - 132 (Selection Sunday)\n",
    "- WTeamID -> unique key\n",
    "- WScore -> int, winning score\n",
    "- LTeamID -> unique key\n",
    "- LScore -> int, losing score\n",
    "- WLoc -> location (Home/Away/Neutral]) of the winning team\n",
    "- NumOT -> int, number of overtime periods in the game"
   ]
  },
  {
   "cell_type": "code",
   "execution_count": 63,
   "id": "1e3e1ad9",
   "metadata": {},
   "outputs": [
    {
     "data": {
      "text/plain": [
       "((186552, 8),\n",
       "    Season  DayNum  WTeamID  WScore  LTeamID  LScore WLoc  NumOT\n",
       " 0    1985      20     1228      81     1328      64    N      0\n",
       " 1    1985      25     1106      77     1354      70    H      0\n",
       " 2    1985      25     1112      63     1223      56    H      0\n",
       " 3    1985      25     1165      70     1432      54    H      0\n",
       " 4    1985      25     1192      86     1447      74    H      0)"
      ]
     },
     "execution_count": 63,
     "metadata": {},
     "output_type": "execute_result"
    }
   ],
   "source": [
    "# Load\n",
    "mens_reg_seas_compact = pd.read_csv(os.path.join(path, 'MRegularSeasonCompactResults.csv'))\n",
    "\n",
    "# Inspect\n",
    "mens_reg_seas_compact.shape, mens_reg_seas_compact.head()"
   ]
  },
  {
   "cell_type": "markdown",
   "id": "9b8e9960",
   "metadata": {},
   "source": [
    "<hr style=\"border: 2px solid blue\">"
   ]
  },
  {
   "cell_type": "markdown",
   "id": "e9649edb",
   "metadata": {},
   "source": [
    "##### 5.) Men's NCAA `Tourney` Compact Results\n",
    "Many familiar features that will be used for joining\n",
    "- Season\n",
    "- DayNum -> because these are tourney games, they are all `GREATER THAN` 132\n",
    "- WTeamID\n",
    "- WScore -> score content\n",
    "- LTeamID\n",
    "- LScore -> losing score\n",
    "- WLoc -> Winner's Respective Location 'H' for Home, 'A' for Away, 'N' for neutral, ALMOST ALL NEUTRAL FOR TOURNEY\n",
    "- NumOT - number of overtime periods in the game, might want to create features based off of this column\n"
   ]
  },
  {
   "cell_type": "code",
   "execution_count": 41,
   "id": "22f6e02b",
   "metadata": {},
   "outputs": [
    {
     "data": {
      "text/plain": [
       "((2451, 8),\n",
       "    Season  DayNum  WTeamID  WScore  LTeamID  LScore WLoc  NumOT\n",
       " 0    1985     136     1116      63     1234      54    N      0\n",
       " 1    1985     136     1120      59     1345      58    N      0\n",
       " 2    1985     136     1207      68     1250      43    N      0\n",
       " 3    1985     136     1229      58     1425      55    N      0\n",
       " 4    1985     136     1242      49     1325      38    N      0)"
      ]
     },
     "execution_count": 41,
     "metadata": {},
     "output_type": "execute_result"
    }
   ],
   "source": [
    "# Load\n",
    "men_ncaa_compact_results = pd.read_csv(os.path.join(path, 'MNCAATourneyCompactResults.csv'))\n",
    "# Inspect\n",
    "men_ncaa_compact_results.shape, men_compact_results.head()"
   ]
  },
  {
   "cell_type": "code",
   "execution_count": 68,
   "id": "1b7d47a5",
   "metadata": {},
   "outputs": [
    {
     "data": {
      "text/plain": [
       "(      Season  DayNum  WTeamID  WScore  LTeamID  LScore WLoc  NumOT\n",
       " 2388    2023     136     1104      96     1394      75    H      0,\n",
       "    TeamID TeamName  FirstD1Season  LastD1Season\n",
       " 3    1104  Alabama           1985          2024)"
      ]
     },
     "execution_count": 68,
     "metadata": {},
     "output_type": "execute_result"
    }
   ],
   "source": [
    "# WTeamID = 1104 for the ONE home game... Somehow Alabama had a home game in 2023\n",
    "\n",
    "men_ncaa_compact_results.query(\"WLoc == 'H'\"), men_teams.query(\"TeamID == 1104\") "
   ]
  },
  {
   "cell_type": "markdown",
   "id": "d30499da",
   "metadata": {},
   "source": [
    "<hr style=\"border: 2px solid blue\">"
   ]
  },
  {
   "cell_type": "markdown",
   "id": "d12dcbdb",
   "metadata": {},
   "source": [
    "<div class=\"alert alert-block alert-info\" style=\"font-size: 2em;\">\n",
    "<b>Data Section 2:</b> Team Box Scores\n",
    "</div>\n",
    "\n",
    " 1. **M/W Regular Season Detailed Results**\n",
    " 2. **M/W NCAA Tourney Detailed Results**"
   ]
  },
  {
   "cell_type": "markdown",
   "id": "43ba546d",
   "metadata": {},
   "source": [
    "<hr style=\"border: 2px solid blue\">"
   ]
  },
  {
   "cell_type": "markdown",
   "id": "d04f5baa",
   "metadata": {},
   "source": [
    "##### 1.) Regular Season Detailed Results\n",
    "There are a lot of statistics tracked in this dataframe. The first 8 columns are the same as the compact results files. The remainder of the columns are typical counting stats that you find in a box score. "
   ]
  },
  {
   "cell_type": "code",
   "execution_count": 69,
   "id": "6e24e03c",
   "metadata": {},
   "outputs": [
    {
     "data": {
      "text/plain": [
       "((112504, 34),\n",
       "    Season  DayNum  WTeamID  WScore  LTeamID  LScore WLoc  NumOT  WFGM  WFGA  \\\n",
       " 0    2003      10     1104      68     1328      62    N      0    27    58   \n",
       " 1    2003      10     1272      70     1393      63    N      0    26    62   \n",
       " 2    2003      11     1266      73     1437      61    N      0    24    58   \n",
       " 3    2003      11     1296      56     1457      50    N      0    18    38   \n",
       " 4    2003      11     1400      77     1208      71    N      0    30    61   \n",
       " \n",
       "    ...  LFGA3  LFTM  LFTA  LOR  LDR  LAst  LTO  LStl  LBlk  LPF  \n",
       " 0  ...     10    16    22   10   22     8   18     9     2   20  \n",
       " 1  ...     24     9    20   20   25     7   12     8     6   16  \n",
       " 2  ...     26    14    23   31   22     9   12     2     5   23  \n",
       " 3  ...     22     8    15   17   20     9   19     4     3   23  \n",
       " 4  ...     16    17    27   21   15    12   10     7     1   14  \n",
       " \n",
       " [5 rows x 34 columns])"
      ]
     },
     "execution_count": 69,
     "metadata": {},
     "output_type": "execute_result"
    }
   ],
   "source": [
    "# Load\n",
    "mens_reg_seas_detailed = pd.read_csv(os.path.join(path, \"MRegularSeasonDetailedResults.csv\"))\n",
    "\n",
    "# Inspect\n",
    "mens_reg_seas_detailed.shape, mens_reg_seas_detailed.head()"
   ]
  },
  {
   "cell_type": "markdown",
   "id": "4b7bb6a5",
   "metadata": {},
   "source": [
    "<hr style=\"border: 2px solid blue\">"
   ]
  },
  {
   "cell_type": "code",
   "execution_count": null,
   "id": "deabcb25",
   "metadata": {},
   "outputs": [],
   "source": []
  },
  {
   "cell_type": "markdown",
   "id": "f405e9dc",
   "metadata": {},
   "source": [
    "##### 2.) NCAA Tournament Detailed Results\n",
    "34 Feature Columns, data doesn't go back as far (2003 vs 1985) as NCAA compact results, WTeamID/LTeamID available. This data looks to have the most pertinent features thus far."
   ]
  },
  {
   "cell_type": "code",
   "execution_count": 47,
   "id": "b00cdef0",
   "metadata": {},
   "outputs": [
    {
     "data": {
      "text/plain": [
       "((1315, 34),\n",
       "    Season  DayNum  WTeamID  WScore  LTeamID  LScore WLoc  NumOT  WFGM  WFGA  \\\n",
       " 0    2003     134     1421      92     1411      84    N      1    32    69   \n",
       " 1    2003     136     1112      80     1436      51    N      0    31    66   \n",
       " 2    2003     136     1113      84     1272      71    N      0    31    59   \n",
       " 3    2003     136     1141      79     1166      73    N      0    29    53   \n",
       " 4    2003     136     1143      76     1301      74    N      1    27    64   \n",
       " \n",
       "    ...  LFGA3  LFTM  LFTA  LOR  LDR  LAst  LTO  LStl  LBlk  LPF  \n",
       " 0  ...     31    14    31   17   28    16   15     5     0   22  \n",
       " 1  ...     16     7     7    8   26    12   17    10     3   15  \n",
       " 2  ...     28    14    21   20   22    11   12     2     5   18  \n",
       " 3  ...     17    12    17   14   17    20   21     6     6   21  \n",
       " 4  ...     21    15    20   10   26    16   14     5     8   19  \n",
       " \n",
       " [5 rows x 34 columns])"
      ]
     },
     "execution_count": 47,
     "metadata": {},
     "output_type": "execute_result"
    }
   ],
   "source": [
    "# Load\n",
    "men_ncaa_detailed_results = pd.read_csv(os.path.join(path, 'MNCAATourneyDetailedResults.csv'))\n",
    "# Inspect\n",
    "men_ncaa_detailed_results.shape, men_ncaa_detailed_results.head()"
   ]
  },
  {
   "cell_type": "code",
   "execution_count": null,
   "id": "e4cb2767",
   "metadata": {},
   "outputs": [],
   "source": []
  },
  {
   "cell_type": "markdown",
   "id": "e8cb7284",
   "metadata": {},
   "source": [
    "<hr style=\"border: 2px solid blue\">"
   ]
  },
  {
   "cell_type": "markdown",
   "id": "fe001ef6",
   "metadata": {},
   "source": [
    "<div class=\"alert alert-block alert-info\" style=\"font-size: 2em;\">\n",
    "<b>Data Section 3:</b> Geography\n",
    "</div>\n",
    "\n",
    " 1. **M/W Cities**\n",
    " 2. **M/W Game Cities**\n"
   ]
  },
  {
   "cell_type": "markdown",
   "id": "97ac4346",
   "metadata": {},
   "source": [
    "<hr style=\"border: 2px solid blue\">"
   ]
  },
  {
   "cell_type": "markdown",
   "id": "48319e13",
   "metadata": {},
   "source": [
    "##### 1.) Cities: \n",
    "This df is 483 rows and 3 columns, and it contains\n",
    "- `CityID` key which may be a unique identifier that can be used for merging tables, \n",
    "- `City` name, and \n",
    "- `State` name "
   ]
  },
  {
   "cell_type": "code",
   "execution_count": 70,
   "id": "6eb1bb32",
   "metadata": {},
   "outputs": [
    {
     "data": {
      "text/plain": [
       "((483, 3),\n",
       "      CityID          City State\n",
       " 0      4001       Abilene    TX\n",
       " 1      4002         Akron    OH\n",
       " 2      4003        Albany    NY\n",
       " 3      4004   Albuquerque    NM\n",
       " 4      4005     Allentown    PA\n",
       " ..      ...           ...   ...\n",
       " 478    4501        Destin    FL\n",
       " 479    4502  South Easton    MA\n",
       " 480    4503      Cherokee    NC\n",
       " 481    4504    St. Joseph    MO\n",
       " 482    4505         Paris    FR\n",
       " \n",
       " [483 rows x 3 columns])"
      ]
     },
     "execution_count": 70,
     "metadata": {},
     "output_type": "execute_result"
    }
   ],
   "source": [
    "# Load data\n",
    "cities = pd.read_csv(os.path.join(path, 'Cities.csv'))\n",
    "\n",
    "# Inspect the DF contents\n",
    "cities.shape, cities"
   ]
  },
  {
   "cell_type": "markdown",
   "id": "17237d40",
   "metadata": {},
   "source": [
    "<hr style=\"border: 2px solid blue\">"
   ]
  },
  {
   "cell_type": "markdown",
   "id": "8e9c50d2",
   "metadata": {},
   "source": [
    "##### 2.) City Game Locations:\n",
    "- Season: Year game was played\n",
    "- DayNum: 0-132, 132 being Selection Sunday\n",
    "- WTeamID: Winning Team\n",
    "- LTeamID: Losing Team\n",
    "- CRType: Relates to a corresponding file, regular secondary or ncaa\n",
    "- CityID: Location"
   ]
  },
  {
   "cell_type": "code",
   "execution_count": 7,
   "id": "dd0ce630",
   "metadata": {},
   "outputs": [
    {
     "data": {
      "text/plain": [
       "((80170, 6),\n",
       "    Season  DayNum  WTeamID  LTeamID   CRType  CityID\n",
       " 0    2010       7     1143     1293  Regular    4027\n",
       " 1    2010       7     1314     1198  Regular    4061\n",
       " 2    2010       7     1326     1108  Regular    4080\n",
       " 3    2010       7     1393     1107  Regular    4340\n",
       " 4    2010       9     1143     1178  Regular    4027)"
      ]
     },
     "execution_count": 7,
     "metadata": {},
     "output_type": "execute_result"
    }
   ],
   "source": [
    "# Load Data\n",
    "mens_city_games = pd.read_csv(os.path.join(path, 'MGameCities.csv'))\n",
    "\n",
    "# Inspect Data\n",
    "mens_city_games.shape, mens_city_games.head()"
   ]
  },
  {
   "cell_type": "code",
   "execution_count": 9,
   "id": "5a614d06",
   "metadata": {},
   "outputs": [
    {
     "data": {
      "text/plain": [
       "CRType\n",
       "Regular      78430\n",
       "Secondary      873\n",
       "NCAA           867\n",
       "Name: count, dtype: int64"
      ]
     },
     "execution_count": 9,
     "metadata": {},
     "output_type": "execute_result"
    }
   ],
   "source": [
    "mens_city_games[\"CRType\"].value_counts()"
   ]
  },
  {
   "cell_type": "code",
   "execution_count": null,
   "id": "4b3687c4",
   "metadata": {},
   "outputs": [],
   "source": [
    "# Load data\n",
    "cities = pd.read_csv(os.path.join(path, 'Cities.csv'))\n",
    "\n",
    "# Inspect the DF contents\n",
    "cities.shape, cities"
   ]
  },
  {
   "cell_type": "markdown",
   "id": "1899f792",
   "metadata": {},
   "source": [
    "<hr style=\"border: 2px solid blue\">"
   ]
  },
  {
   "cell_type": "markdown",
   "id": "f2055602",
   "metadata": {},
   "source": [
    "<div class=\"alert alert-block alert-info\" style=\"font-size: 2em;\">\n",
    "<b>Data Section 4:</b> Public Rankings\n",
    "</div>\n",
    "\n",
    " 1. **M/W  MMasseyOrdinals**\n"
   ]
  },
  {
   "cell_type": "markdown",
   "id": "2b4e9496",
   "metadata": {},
   "source": [
    "<hr style=\"border: 2px solid blue\">"
   ]
  },
  {
   "cell_type": "markdown",
   "id": "51643929",
   "metadata": {},
   "source": [
    "##### 1.) M_Massey : \n",
    "This file lists out rankings (e.g. #1, #2, #3, ..., #N) of men's teams going back to the 2002-2003 season, under a large number of different ranking system methodologies. The information was gathered by Kenneth Massey and provided on his College Basketball Ranking Composite page.\n",
    "- Season\n",
    "- RankingDayNum -> going to want to use the final day, possibly generate a `MOVING AVERAGE FEATURE` later\n",
    "- SystemName -> Ranking system name - 192 distinct ranking systems\n",
    "- TeamID - self-explanatory\n",
    "- OrdinalRank - 1 through Total Number of Active Programs usually around 346"
   ]
  },
  {
   "cell_type": "code",
   "execution_count": 12,
   "id": "9f2f25e3",
   "metadata": {},
   "outputs": [
    {
     "data": {
      "text/plain": [
       "((5204627, 5),\n",
       "    Season  RankingDayNum SystemName  TeamID  OrdinalRank\n",
       " 0    2003             35        SEL    1102          159\n",
       " 1    2003             35        SEL    1103          229\n",
       " 2    2003             35        SEL    1104           12\n",
       " 3    2003             35        SEL    1105          314\n",
       " 4    2003             35        SEL    1106          260)"
      ]
     },
     "execution_count": 12,
     "metadata": {},
     "output_type": "execute_result"
    }
   ],
   "source": [
    "# Load Data\n",
    "m_massey = pd.read_csv(os.path.join(path, 'MMasseyOrdinals.csv'))\n",
    "\n",
    "# Inspect - 5.2M rows\n",
    "m_massey.shape, m_massey.head()"
   ]
  },
  {
   "cell_type": "code",
   "execution_count": 90,
   "id": "f5816dfb",
   "metadata": {},
   "outputs": [
    {
     "data": {
      "image/png": "[encoded data removed]",
      "text/plain": [
       "<Figure size 1500x500 with 1 Axes>"
      ]
     },
     "metadata": {},
     "output_type": "display_data"
    }
   ],
   "source": [
    "# Visual Inspection of Ordinal Rank\n",
    "fig, ax = plt.subplots(figsize=(15,5))\n",
    "sns.set_style(\"darkgrid\")\n",
    "sns.boxplot(x=\"Season\", y=\"OrdinalRank\", data=m_massey, color=\"red\", ax=ax)\n",
    "ax.set_title(\"Ranges of Ordinal Rank by Season\");"
   ]
  },
  {
   "cell_type": "code",
   "execution_count": 37,
   "id": "5a98d92b",
   "metadata": {},
   "outputs": [
    {
     "data": {
      "text/plain": [
       "SystemName\n",
       "Other    3210065\n",
       "MOR       135173\n",
       "POM       132682\n",
       "SAG       130371\n",
       "DOK       119386\n",
       "Name: count, dtype: int64"
      ]
     },
     "execution_count": 37,
     "metadata": {},
     "output_type": "execute_result"
    }
   ],
   "source": [
    "# Possible means to consolidate the ranking systems, - computation heavy cell, so commented out\n",
    "\n",
    "# top_20_systems = list(m_massey[\"SystemName\"].value_counts(normalize=True)[:20].index)\n",
    "# m_massey[\"SystemName\"].apply(lambda x: x if x in top_20_systems else \"Other\").value_counts()[:5]"
   ]
  },
  {
   "cell_type": "code",
   "execution_count": null,
   "id": "46688910",
   "metadata": {},
   "outputs": [],
   "source": []
  },
  {
   "cell_type": "markdown",
   "id": "a40a7ba9",
   "metadata": {},
   "source": [
    "<hr style=\"border: 2px solid blue\">"
   ]
  },
  {
   "cell_type": "markdown",
   "id": "c563b569",
   "metadata": {},
   "source": [
    "<div class=\"alert alert-block alert-info\" style=\"font-size: 2em;\">\n",
    "<b>Data Section 5:</b> Supplemental Info\n",
    "</div>\n",
    "\n",
    " 1. **Men's Coaches (only men)**\n",
    " 2. **Conferences**\n",
    " 3. **M/W Teams Conferences (additional detail)**\n",
    " 4. **Men's Conference Tournament Games**\n",
    " 5. **Men's Secondary Tourney Teams**\n",
    " 6. **Men's Sec Tourney Compact Results**\n",
    " 7. **M/W Team Spellings**\n",
    " 8. **M/W NCAA Tourney Slots**\n",
    " 9. **Men's NCAA Tourney Seed Round Slots**\n"
   ]
  },
  {
   "cell_type": "code",
   "execution_count": null,
   "id": "80f804b6",
   "metadata": {},
   "outputs": [],
   "source": []
  },
  {
   "cell_type": "markdown",
   "id": "5e00ed64",
   "metadata": {},
   "source": [
    "<hr style=\"border: 2px solid blue\">"
   ]
  },
  {
   "cell_type": "markdown",
   "id": "63b9bbae",
   "metadata": {},
   "source": [
    "##### 1.) Men's Coaches\n",
    "Use `Season`, `TeamID` to merge data on."
   ]
  },
  {
   "cell_type": "code",
   "execution_count": 91,
   "id": "332499f6",
   "metadata": {},
   "outputs": [
    {
     "data": {
      "text/plain": [
       "((13167, 5),\n",
       "    Season  TeamID  FirstDayNum  LastDayNum       CoachName\n",
       " 0    1985    1102            0         154   reggie_minton\n",
       " 1    1985    1103            0         154     bob_huggins\n",
       " 2    1985    1104            0         154  wimp_sanderson\n",
       " 3    1985    1106            0         154    james_oliver\n",
       " 4    1985    1108            0         154   davey_whitney)"
      ]
     },
     "execution_count": 91,
     "metadata": {},
     "output_type": "execute_result"
    }
   ],
   "source": [
    "# Load\n",
    "mens_coaches = pd.read_csv(os.path.join(path, 'MTeamCoaches.csv'))\n",
    "# Inspect\n",
    "mens_coaches.shape, mens_coaches.head()"
   ]
  },
  {
   "cell_type": "markdown",
   "id": "d0fb89e4",
   "metadata": {},
   "source": [
    "<hr style=\"border: 2px solid blue\">"
   ]
  },
  {
   "cell_type": "markdown",
   "id": "d560235e",
   "metadata": {},
   "source": [
    "##### 2.) Conferences:\n",
    "51 rows, 2 columns for each distinct conference. \n",
    "- `ConfAbbrev` containing lowercase abbreviation, and \n",
    "- `Description` containing the full length conference name. "
   ]
  },
  {
   "cell_type": "code",
   "execution_count": 5,
   "id": "32012fce",
   "metadata": {},
   "outputs": [
    {
     "data": {
      "text/plain": [
       "((51, 2),\n",
       "   ConfAbbrev                   Description\n",
       " 0      a_sun       Atlantic Sun Conference\n",
       " 1      a_ten        Atlantic 10 Conference\n",
       " 2        aac  American Athletic Conference\n",
       " 3        acc     Atlantic Coast Conference\n",
       " 4        aec       America East Conference)"
      ]
     },
     "execution_count": 5,
     "metadata": {},
     "output_type": "execute_result"
    }
   ],
   "source": [
    "# Load Data\n",
    "conferences = pd.read_csv(os.path.join(path, 'Conferences.csv'))\n",
    "\n",
    "# Inspect Data\n",
    "conferences.shape, conferences.head()"
   ]
  },
  {
   "cell_type": "markdown",
   "id": "efc8a72f",
   "metadata": {},
   "source": [
    "<hr style=\"border: 2px solid blue\">"
   ]
  },
  {
   "cell_type": "markdown",
   "id": "8b167498",
   "metadata": {},
   "source": [
    "##### 3.) M/W Team Conferences\n",
    "- Season\n",
    "- TeamID\n",
    "- ConfAbbrev -> used to access the \"Description\" from above dataframe: Full Name String"
   ]
  },
  {
   "cell_type": "code",
   "execution_count": 92,
   "id": "71ec68f8",
   "metadata": {},
   "outputs": [
    {
     "data": {
      "text/plain": [
       "((13024, 3),\n",
       "    Season  TeamID ConfAbbrev\n",
       " 0    1985    1102        wac\n",
       " 1    1985    1103        ovc\n",
       " 2    1985    1104        sec\n",
       " 3    1985    1106       swac\n",
       " 4    1985    1108       swac)"
      ]
     },
     "execution_count": 92,
     "metadata": {},
     "output_type": "execute_result"
    }
   ],
   "source": [
    "# Load\n",
    "mens_conferences = pd.read_csv(os.path.join(path, 'MTeamConferences.csv'))\n",
    "# Inspect\n",
    "mens_conferences.shape, mens_conferences.head()"
   ]
  },
  {
   "cell_type": "markdown",
   "id": "1bfb94d4",
   "metadata": {},
   "source": [
    "<hr style=\"border: 2px solid blue\">"
   ]
  },
  {
   "cell_type": "markdown",
   "id": "4b43eb54",
   "metadata": {},
   "source": [
    "##### 4.) Men's Conference Tourney Games:\n",
    "- `Season` Year of Record\n",
    "- `ConfAbbrev` same as \"conferences\" df ConfAbbrev columns\n",
    "- `DayNum` this integer always ranges from 0 to 132, day 132 is always SELECTION SUNDAY, day 0 is earliest first game of ALL seasons in the data\n",
    "- `WTeamID` winning team ID for merging data\n",
    "- `LTeamID` also for merging data"
   ]
  },
  {
   "cell_type": "code",
   "execution_count": 46,
   "id": "dbd58f54",
   "metadata": {},
   "outputs": [
    {
     "data": {
      "text/plain": [
       "((6189, 5),\n",
       "    Season ConfAbbrev  DayNum  WTeamID  LTeamID\n",
       " 0    2001      a_sun     121     1194     1144\n",
       " 1    2001      a_sun     121     1416     1240\n",
       " 2    2001      a_sun     122     1209     1194\n",
       " 3    2001      a_sun     122     1359     1239\n",
       " 4    2001      a_sun     122     1391     1273\n",
       " 5    2001      a_sun     122     1407     1416)"
      ]
     },
     "execution_count": 46,
     "metadata": {},
     "output_type": "execute_result"
    }
   ],
   "source": [
    "# Load Data\n",
    "mens_conference_tourney_games = pd.read_csv(os.path.join(path, 'MConferenceTourneyGames.csv'))\n",
    "\n",
    "# Inspect Data\n",
    "mens_conference_tourney_games.shape, mens_games.head(6)"
   ]
  },
  {
   "cell_type": "markdown",
   "id": "e7c47c32",
   "metadata": {},
   "source": []
  },
  {
   "cell_type": "code",
   "execution_count": null,
   "id": "ee67be9c",
   "metadata": {},
   "outputs": [],
   "source": []
  },
  {
   "cell_type": "markdown",
   "id": "9c0923ef",
   "metadata": {},
   "source": [
    "<hr style=\"border: 2px solid blue\">"
   ]
  },
  {
   "cell_type": "markdown",
   "id": "508fc2de",
   "metadata": {},
   "source": [
    "##### 5.) Men's Secondary Tourney Teams"
   ]
  },
  {
   "cell_type": "code",
   "execution_count": null,
   "id": "4e47a60f",
   "metadata": {},
   "outputs": [],
   "source": []
  },
  {
   "cell_type": "markdown",
   "id": "660812c7",
   "metadata": {},
   "source": [
    "<hr style=\"border: 2px solid blue\">"
   ]
  },
  {
   "cell_type": "code",
   "execution_count": null,
   "id": "e019c3d1",
   "metadata": {},
   "outputs": [],
   "source": []
  },
  {
   "cell_type": "markdown",
   "id": "260c4978",
   "metadata": {},
   "source": [
    "<hr style=\"border: 2px solid blue\">"
   ]
  },
  {
   "cell_type": "code",
   "execution_count": null,
   "id": "7c0b5a55",
   "metadata": {},
   "outputs": [],
   "source": []
  },
  {
   "cell_type": "markdown",
   "id": "0ec41ba3",
   "metadata": {},
   "source": [
    "<hr style=\"border: 2px solid blue\">"
   ]
  },
  {
   "cell_type": "markdown",
   "id": "4a02d6d4",
   "metadata": {},
   "source": [
    "##### Men's City Game Locations:\n",
    "- Season: Year game was played\n",
    "- DayNum: 0-132, 132 being Selection Sunday\n",
    "- WTeamID: Winning Team\n",
    "- LTeamID: Losing Team\n",
    "- CRType: Relates to a corresponding file, regular secondary or ncaa\n",
    "- CityID: Location"
   ]
  },
  {
   "cell_type": "code",
   "execution_count": 7,
   "id": "d5b9025d",
   "metadata": {},
   "outputs": [
    {
     "data": {
      "text/plain": [
       "((80170, 6),\n",
       "    Season  DayNum  WTeamID  LTeamID   CRType  CityID\n",
       " 0    2010       7     1143     1293  Regular    4027\n",
       " 1    2010       7     1314     1198  Regular    4061\n",
       " 2    2010       7     1326     1108  Regular    4080\n",
       " 3    2010       7     1393     1107  Regular    4340\n",
       " 4    2010       9     1143     1178  Regular    4027)"
      ]
     },
     "execution_count": 7,
     "metadata": {},
     "output_type": "execute_result"
    }
   ],
   "source": [
    "# Load Data\n",
    "mens_city_games = pd.read_csv(os.path.join(path, 'MGameCities.csv'))\n",
    "\n",
    "# Inspect Data\n",
    "mens_city_games.shape, mens_city_games.head()"
   ]
  },
  {
   "cell_type": "code",
   "execution_count": 9,
   "id": "960e5e6d",
   "metadata": {},
   "outputs": [
    {
     "data": {
      "text/plain": [
       "CRType\n",
       "Regular      78430\n",
       "Secondary      873\n",
       "NCAA           867\n",
       "Name: count, dtype: int64"
      ]
     },
     "execution_count": 9,
     "metadata": {},
     "output_type": "execute_result"
    }
   ],
   "source": [
    "mens_city_games[\"CRType\"].value_counts()"
   ]
  },
  {
   "cell_type": "code",
   "execution_count": null,
   "id": "ce721bfb",
   "metadata": {},
   "outputs": [],
   "source": []
  },
  {
   "cell_type": "markdown",
   "id": "1e53b65f",
   "metadata": {},
   "source": [
    "<hr style=\"border: 2px solid blue\">"
   ]
  },
  {
   "cell_type": "code",
   "execution_count": null,
   "id": "339d4c01",
   "metadata": {},
   "outputs": [],
   "source": []
  },
  {
   "cell_type": "markdown",
   "id": "6a93ea8e",
   "metadata": {},
   "source": [
    "<hr style=\"border: 2px solid blue\">"
   ]
  },
  {
   "cell_type": "code",
   "execution_count": null,
   "id": "787605aa",
   "metadata": {},
   "outputs": [],
   "source": []
  },
  {
   "cell_type": "markdown",
   "id": "da8921aa",
   "metadata": {},
   "source": [
    "<hr style=\"border: 2px solid blue\">"
   ]
  },
  {
   "cell_type": "markdown",
   "id": "74fe9f08",
   "metadata": {},
   "source": [
    "##### Tournament Seed Rounded Slots\n",
    "Kind of strange data to consolidate. "
   ]
  },
  {
   "cell_type": "code",
   "execution_count": 51,
   "id": "56e8d862",
   "metadata": {},
   "outputs": [
    {
     "data": {
      "text/plain": [
       "((720, 5),\n",
       "   Seed  GameRound GameSlot  EarlyDayNum  LateDayNum\n",
       " 0  W01          1     R1W1          136         137\n",
       " 1  W01          2     R2W1          138         139\n",
       " 2  W01          3     R3W1          143         144\n",
       " 3  W01          4     R4W1          145         146\n",
       " 4  W01          5     R5WX          152         152)"
      ]
     },
     "execution_count": 51,
     "metadata": {},
     "output_type": "execute_result"
    }
   ],
   "source": [
    "men_tourney_seed_rounded_slots = pd.read_csv(os.path.join(path, 'MNCAATourneySeedRoundSlots.csv'))\n",
    "men_tourney_seed_rounded_slots.shape, men_tourney_seed_rounded_slots.head()"
   ]
  },
  {
   "cell_type": "code",
   "execution_count": null,
   "id": "8c516e49",
   "metadata": {},
   "outputs": [],
   "source": []
  }
 ],
 "metadata": {
  "kernelspec": {
   "display_name": "David's Environment",
   "language": "python",
   "name": "david_env"
  },
  "language_info": {
   "codemirror_mode": {
    "name": "ipython",
    "version": 3
   },
   "file_extension": ".py",
   "mimetype": "text/x-python",
   "name": "python",
   "nbconvert_exporter": "python",
   "pygments_lexer": "ipython3",
   "version": "3.10.13"
  }
 },
 "nbformat": 4,
 "nbformat_minor": 5
}
