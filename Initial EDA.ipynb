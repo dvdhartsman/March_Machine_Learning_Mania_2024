{
 "cells": [
  {
   "cell_type": "markdown",
   "id": "93618987",
   "metadata": {},
   "source": [
    "# March Machine Learning Madness 2024: \n",
    "### Predicting NCAA Basketball Tournament Results\n",
    "##### By David Hartsman"
   ]
  },
  {
   "cell_type": "markdown",
   "id": "4e5c3261",
   "metadata": {},
   "source": [
    "<hr style=\"border: 4px solid blue\">"
   ]
  },
  {
   "cell_type": "code",
   "execution_count": 1,
   "id": "94bd9001",
   "metadata": {},
   "outputs": [],
   "source": [
    "# Imports \n",
    "\n",
    "import numpy as np\n",
    "import pandas as pd\n",
    "import matplotlib.pyplot as plt\n",
    "%matplotlib inline\n",
    "import seaborn as sns\n",
    "\n",
    "import os"
   ]
  },
  {
   "cell_type": "markdown",
   "id": "e919c795",
   "metadata": {},
   "source": [
    "### Exploration of the Various Data Files\n",
    "There are 32 separate data sources that require exploration and understanding. I will begin my project by inspecting the contents of these files to understand the information contained within. The first file contains information about `THIS YEAR'S` tournament seeds."
   ]
  },
  {
   "cell_type": "markdown",
   "id": "cbaf485e",
   "metadata": {},
   "source": [
    "<hr style=\"border: 2px solid blue\">"
   ]
  },
  {
   "cell_type": "markdown",
   "id": "56c9229b",
   "metadata": {},
   "source": [
    "##### Seeds:\n",
    "This data contain 128 rows, 64 for each tournament, men's and women's respectively. The \n",
    "- `Tournament` column designates M/W for men or women, \n",
    "- `Seed` contains bracket region and numeric seeds, and \n",
    "- `TeamID`, contains what may be a unique identifier for merging"
   ]
  },
  {
   "cell_type": "code",
   "execution_count": 17,
   "id": "d64a195a",
   "metadata": {},
   "outputs": [],
   "source": [
    "path = '/Users/samalainabayeva/Desktop/FLAT_IRON!!!/NCAA_KAGGLE/march-machine-learning-mania-2024'"
   ]
  },
  {
   "cell_type": "code",
   "execution_count": 20,
   "id": "910bd97a",
   "metadata": {},
   "outputs": [
    {
     "data": {
      "text/plain": [
       "((128, 3),\n",
       "   Tournament Seed  TeamID\n",
       " 0          M  W01    1345\n",
       " 1          M  W02    1266\n",
       " 2          M  W03    1243\n",
       " 3          M  W04    1397\n",
       " 4          M  W05    1181)"
      ]
     },
     "execution_count": 20,
     "metadata": {},
     "output_type": "execute_result"
    }
   ],
   "source": [
    "# Load data\n",
    "tournament_seeds = pd.read_csv(os.path.join(path, '2024_tourney_seeds.csv'))\n",
    "\n",
    "# Inspect the DF contents\n",
    "tournament_seeds.shape, tournament_seeds.head()"
   ]
  },
  {
   "cell_type": "markdown",
   "id": "844055ed",
   "metadata": {},
   "source": [
    "##### Cities: \n",
    "This df is 483 rows and 3 columns, and it contains a \n",
    "- `CityID` key which may be a unique identifier that can be used for merging tables, \n",
    "- `City` name, and \n",
    "- `State` name "
   ]
  },
  {
   "cell_type": "code",
   "execution_count": 22,
   "id": "0954160a",
   "metadata": {},
   "outputs": [
    {
     "data": {
      "text/plain": [
       "((483, 3),\n",
       "      CityID          City State\n",
       " 0      4001       Abilene    TX\n",
       " 1      4002         Akron    OH\n",
       " 2      4003        Albany    NY\n",
       " 3      4004   Albuquerque    NM\n",
       " 4      4005     Allentown    PA\n",
       " ..      ...           ...   ...\n",
       " 478    4501        Destin    FL\n",
       " 479    4502  South Easton    MA\n",
       " 480    4503      Cherokee    NC\n",
       " 481    4504    St. Joseph    MO\n",
       " 482    4505         Paris    FR\n",
       " \n",
       " [483 rows x 3 columns])"
      ]
     },
     "execution_count": 22,
     "metadata": {},
     "output_type": "execute_result"
    }
   ],
   "source": [
    "# Load data\n",
    "cities = pd.read_csv(os.path.join(path, 'Cities.csv'))\n",
    "\n",
    "# Inspect the DF contents\n",
    "cities.shape, cities"
   ]
  },
  {
   "cell_type": "markdown",
   "id": "95c2d06c",
   "metadata": {},
   "source": [
    "##### Conferences:\n",
    "51 rows, 2 columns for each distinct conference. \n",
    "- `ConfAbbrev` containing lowercase abbreviation, and \n",
    "- `Description` containing the full length conference name. "
   ]
  },
  {
   "cell_type": "code",
   "execution_count": 23,
   "id": "cae4dfae",
   "metadata": {},
   "outputs": [
    {
     "data": {
      "text/plain": [
       "((51, 2),\n",
       "   ConfAbbrev                   Description\n",
       " 0      a_sun       Atlantic Sun Conference\n",
       " 1      a_ten        Atlantic 10 Conference\n",
       " 2        aac  American Athletic Conference\n",
       " 3        acc     Atlantic Coast Conference\n",
       " 4        aec       America East Conference)"
      ]
     },
     "execution_count": 23,
     "metadata": {},
     "output_type": "execute_result"
    }
   ],
   "source": [
    "# Load Data\n",
    "conferences = pd.read_csv(os.path.join(path, 'Conferences.csv'))\n",
    "\n",
    "# Inspect Data\n",
    "conferences.shape, conferences.head()"
   ]
  },
  {
   "cell_type": "markdown",
   "id": "76894816",
   "metadata": {},
   "source": [
    "##### Men's Conference Tourney Games:\n",
    "- `Season` Year of Record\n",
    "- `ConfAbbrev` same as \"conferences\" df ConfAbbrev columns\n",
    "- `DayNum` this integer always ranges from 0 to 132, day 132 is always SELECTION SUNDAY, day 0 is earliest first game of ALL seasons in the data\n",
    "- `WTeamID` winning team ID for merging data\n",
    "- `LTeamID` also for merging data"
   ]
  },
  {
   "cell_type": "code",
   "execution_count": 25,
   "id": "b682e85f",
   "metadata": {},
   "outputs": [
    {
     "data": {
      "text/plain": [
       "((6189, 5),\n",
       "    Season ConfAbbrev  DayNum  WTeamID  LTeamID\n",
       " 0    2001      a_sun     121     1194     1144\n",
       " 1    2001      a_sun     121     1416     1240\n",
       " 2    2001      a_sun     122     1209     1194\n",
       " 3    2001      a_sun     122     1359     1239\n",
       " 4    2001      a_sun     122     1391     1273\n",
       " 5    2001      a_sun     122     1407     1416)"
      ]
     },
     "execution_count": 25,
     "metadata": {},
     "output_type": "execute_result"
    }
   ],
   "source": [
    "# Load Data\n",
    "mens_games = pd.read_csv(os.path.join(path, 'MConferenceTourneyGames.csv'))\n",
    "\n",
    "# Inspect Data\n",
    "mens_games.shape, mens_games.head(6)"
   ]
  },
  {
   "cell_type": "markdown",
   "id": "4a02d6d4",
   "metadata": {},
   "source": [
    "##### Men's City Game Locations:"
   ]
  },
  {
   "cell_type": "code",
   "execution_count": 27,
   "id": "d5b9025d",
   "metadata": {},
   "outputs": [
    {
     "data": {
      "text/plain": [
       "((80170, 6),\n",
       "    Season  DayNum  WTeamID  LTeamID   CRType  CityID\n",
       " 0    2010       7     1143     1293  Regular    4027\n",
       " 1    2010       7     1314     1198  Regular    4061\n",
       " 2    2010       7     1326     1108  Regular    4080\n",
       " 3    2010       7     1393     1107  Regular    4340\n",
       " 4    2010       9     1143     1178  Regular    4027)"
      ]
     },
     "execution_count": 27,
     "metadata": {},
     "output_type": "execute_result"
    }
   ],
   "source": [
    "# Load Data\n",
    "mens_city_games = pd.read_csv(os.path.join(path, 'MGameCities.csv'))\n",
    "\n",
    "# Inspect Data\n",
    "mens_city_games.shape, mens_city_games.head()"
   ]
  },
  {
   "cell_type": "code",
   "execution_count": null,
   "id": "960e5e6d",
   "metadata": {},
   "outputs": [],
   "source": []
  }
 ],
 "metadata": {
  "kernelspec": {
   "display_name": "David's Environment",
   "language": "python",
   "name": "david_env"
  },
  "language_info": {
   "codemirror_mode": {
    "name": "ipython",
    "version": 3
   },
   "file_extension": ".py",
   "mimetype": "text/x-python",
   "name": "python",
   "nbconvert_exporter": "python",
   "pygments_lexer": "ipython3",
   "version": "3.10.13"
  }
 },
 "nbformat": 4,
 "nbformat_minor": 5
}
